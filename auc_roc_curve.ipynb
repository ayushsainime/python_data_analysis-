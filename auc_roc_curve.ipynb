{
 "cells": [
  {
   "cell_type": "code",
   "execution_count": 1,
   "metadata": {},
   "outputs": [],
   "source": [
    "import pandas as pd\n",
    "from sklearn.datasets import make_classification\n",
    "from sklearn.model_selection import train_test_split\n"
   ]
  },
  {
   "cell_type": "code",
   "execution_count": 4,
   "metadata": {},
   "outputs": [],
   "source": [
    "X, y = make_classification(n_samples=1000, n_classes=2, n_features=20, random_state=27)\n"
   ]
  },
  {
   "cell_type": "code",
   "execution_count": 7,
   "metadata": {},
   "outputs": [
    {
     "name": "stdout",
     "output_type": "stream",
     "text": [
      "           0         1         2         3         4         5         6   \\\n",
      "0   -0.258203  1.019808  1.524563  0.617243  0.148243  0.744111 -0.363963   \n",
      "1   -0.458166  0.828728 -0.656965 -0.056297  0.254895 -0.018241  0.313829   \n",
      "2   -0.387378  0.761818 -1.310351 -0.351663 -0.130643 -0.641420  0.152001   \n",
      "3   -2.394585 -0.036724  1.361228 -0.371470  1.871835 -1.226815  0.770733   \n",
      "4    0.258229 -1.600952  1.101282  1.659578  0.927923 -0.093182 -1.778309   \n",
      "..        ...       ...       ...       ...       ...       ...       ...   \n",
      "995 -0.724879  0.281545 -0.362035 -2.602418  0.699501 -0.328376  0.383521   \n",
      "996  2.085897  0.461640  0.372497 -1.838814  0.024923 -0.710831 -0.945424   \n",
      "997 -0.547793 -0.674539 -0.834644  1.050191 -0.797763  0.699879 -0.943583   \n",
      "998  0.559619 -0.625025  1.404538  0.593826 -0.270234 -0.519678 -1.407141   \n",
      "999 -1.424876  0.527146  0.157864 -0.926648 -0.801353  1.825411  0.999557   \n",
      "\n",
      "           7         8         9         10        11        12        13  \\\n",
      "0    1.549367  0.256960 -1.222225  0.636587  1.448634 -1.471582  1.918621   \n",
      "1   -0.386936 -1.632152 -2.059698  0.356881 -1.400478  0.326012  1.058607   \n",
      "2    0.941251  1.381526 -1.803593  0.749451  0.325846  0.742814  0.981221   \n",
      "3   -0.566035  0.688286  1.052618 -1.122666 -0.028873  0.498517 -1.113630   \n",
      "4    0.485978 -0.918154 -0.765634  0.601260  0.776797  0.182804 -0.963276   \n",
      "..        ...       ...       ...       ...       ...       ...       ...   \n",
      "995 -0.072851 -2.225106 -0.386934  1.686867  1.831139 -0.426400  1.068455   \n",
      "996  1.671489 -0.238396 -0.446206  0.747034 -1.104464  1.774805 -0.657410   \n",
      "997 -0.083061  1.525375  0.938323 -0.449004 -0.343585  0.145134  1.038857   \n",
      "998  1.923672 -0.161268 -1.092994 -0.534942 -1.230007 -0.821936 -1.078008   \n",
      "999  0.091012  0.332559 -0.601311  2.128989  1.417514  0.703116  0.341904   \n",
      "\n",
      "           14        15        16        17        18        19  \n",
      "0    2.584944  2.638990  0.069881  0.332721 -0.175407  1.501124  \n",
      "1   -0.668410 -0.622784 -0.405360  1.201937 -0.255835 -0.199313  \n",
      "2   -1.600239 -1.550548 -0.232538 -1.033209 -1.686671 -0.766836  \n",
      "3    1.640086  1.585018 -1.921666 -1.177293 -1.784434  0.132557  \n",
      "4    1.312165  1.265336  0.709714 -1.534325  0.698777 -1.625380  \n",
      "..        ...       ...       ...       ...       ...       ...  \n",
      "995 -0.253722 -0.210847  0.358016 -1.335716 -0.871125  0.658246  \n",
      "996  0.365474  0.337514  0.676548 -0.623767 -0.985299  0.067141  \n",
      "997 -0.921502 -0.874723  1.315291  0.578216 -1.172548  1.083019  \n",
      "998  1.709057  1.654835  0.732973 -1.669515 -0.292760  0.484569  \n",
      "999  0.301509  0.312341  0.292889  3.251636 -0.547791 -1.510333  \n",
      "\n",
      "[1000 rows x 20 columns]\n"
     ]
    }
   ],
   "source": [
    "X_train ,X_test , y_train , y_test = train_test_split( X , y , test_size = 0.3 , random_state = 27 )\n",
    "print(pd.DataFrame(X))"
   ]
  },
  {
   "cell_type": "code",
   "execution_count": 9,
   "metadata": {},
   "outputs": [
    {
     "data": {
      "application/vnd.microsoft.datawrangler.viewer.v0+json": {
       "columns": [
        {
         "name": "index",
         "rawType": "int64",
         "type": "integer"
        },
        {
         "name": "0",
         "rawType": "int64",
         "type": "integer"
        }
       ],
       "conversionMethod": "pd.DataFrame",
       "ref": "efd3ffc1-a888-4f7b-ac5a-514af37f7965",
       "rows": [
        [
         "0",
         "1"
        ],
        [
         "1",
         "1"
        ],
        [
         "2",
         "1"
        ],
        [
         "3",
         "0"
        ],
        [
         "4",
         "0"
        ],
        [
         "5",
         "1"
        ],
        [
         "6",
         "1"
        ],
        [
         "7",
         "0"
        ],
        [
         "8",
         "1"
        ],
        [
         "9",
         "0"
        ],
        [
         "10",
         "0"
        ],
        [
         "11",
         "0"
        ],
        [
         "12",
         "1"
        ],
        [
         "13",
         "1"
        ],
        [
         "14",
         "1"
        ],
        [
         "15",
         "1"
        ],
        [
         "16",
         "0"
        ],
        [
         "17",
         "1"
        ],
        [
         "18",
         "1"
        ],
        [
         "19",
         "1"
        ],
        [
         "20",
         "0"
        ],
        [
         "21",
         "0"
        ],
        [
         "22",
         "0"
        ],
        [
         "23",
         "1"
        ],
        [
         "24",
         "1"
        ],
        [
         "25",
         "0"
        ],
        [
         "26",
         "0"
        ],
        [
         "27",
         "0"
        ],
        [
         "28",
         "0"
        ],
        [
         "29",
         "0"
        ],
        [
         "30",
         "1"
        ],
        [
         "31",
         "0"
        ],
        [
         "32",
         "1"
        ],
        [
         "33",
         "0"
        ],
        [
         "34",
         "1"
        ],
        [
         "35",
         "1"
        ],
        [
         "36",
         "1"
        ],
        [
         "37",
         "0"
        ],
        [
         "38",
         "0"
        ],
        [
         "39",
         "0"
        ],
        [
         "40",
         "0"
        ],
        [
         "41",
         "0"
        ],
        [
         "42",
         "1"
        ],
        [
         "43",
         "1"
        ],
        [
         "44",
         "0"
        ],
        [
         "45",
         "0"
        ],
        [
         "46",
         "0"
        ],
        [
         "47",
         "0"
        ],
        [
         "48",
         "1"
        ],
        [
         "49",
         "0"
        ]
       ],
       "shape": {
        "columns": 1,
        "rows": 1000
       }
      },
      "text/html": [
       "<div>\n",
       "<style scoped>\n",
       "    .dataframe tbody tr th:only-of-type {\n",
       "        vertical-align: middle;\n",
       "    }\n",
       "\n",
       "    .dataframe tbody tr th {\n",
       "        vertical-align: top;\n",
       "    }\n",
       "\n",
       "    .dataframe thead th {\n",
       "        text-align: right;\n",
       "    }\n",
       "</style>\n",
       "<table border=\"1\" class=\"dataframe\">\n",
       "  <thead>\n",
       "    <tr style=\"text-align: right;\">\n",
       "      <th></th>\n",
       "      <th>0</th>\n",
       "    </tr>\n",
       "  </thead>\n",
       "  <tbody>\n",
       "    <tr>\n",
       "      <th>0</th>\n",
       "      <td>1</td>\n",
       "    </tr>\n",
       "    <tr>\n",
       "      <th>1</th>\n",
       "      <td>1</td>\n",
       "    </tr>\n",
       "    <tr>\n",
       "      <th>2</th>\n",
       "      <td>1</td>\n",
       "    </tr>\n",
       "    <tr>\n",
       "      <th>3</th>\n",
       "      <td>0</td>\n",
       "    </tr>\n",
       "    <tr>\n",
       "      <th>4</th>\n",
       "      <td>0</td>\n",
       "    </tr>\n",
       "    <tr>\n",
       "      <th>...</th>\n",
       "      <td>...</td>\n",
       "    </tr>\n",
       "    <tr>\n",
       "      <th>995</th>\n",
       "      <td>1</td>\n",
       "    </tr>\n",
       "    <tr>\n",
       "      <th>996</th>\n",
       "      <td>0</td>\n",
       "    </tr>\n",
       "    <tr>\n",
       "      <th>997</th>\n",
       "      <td>1</td>\n",
       "    </tr>\n",
       "    <tr>\n",
       "      <th>998</th>\n",
       "      <td>0</td>\n",
       "    </tr>\n",
       "    <tr>\n",
       "      <th>999</th>\n",
       "      <td>1</td>\n",
       "    </tr>\n",
       "  </tbody>\n",
       "</table>\n",
       "<p>1000 rows × 1 columns</p>\n",
       "</div>"
      ],
      "text/plain": [
       "     0\n",
       "0    1\n",
       "1    1\n",
       "2    1\n",
       "3    0\n",
       "4    0\n",
       "..  ..\n",
       "995  1\n",
       "996  0\n",
       "997  1\n",
       "998  0\n",
       "999  1\n",
       "\n",
       "[1000 rows x 1 columns]"
      ]
     },
     "execution_count": 9,
     "metadata": {},
     "output_type": "execute_result"
    }
   ],
   "source": [
    "pd.DataFrame(y)"
   ]
  },
  {
   "cell_type": "code",
   "execution_count": 12,
   "metadata": {},
   "outputs": [],
   "source": [
    "from sklearn.linear_model import LogisticRegression \n",
    "from sklearn.neighbors import KNeighborsClassifier\n",
    "# logistic regression \n",
    "model1= LogisticRegression()\n",
    "#  KNN \n",
    "model2 = KNeighborsClassifier( n_neighbors= 4) \n",
    "\n",
    "\n",
    "model1.fit( X_train , y_train)\n",
    "model2.fit( X_train , y_train)\n",
    "\n",
    "pred_prob1 = model1.predict_proba( X_test) \n",
    "pred_prob2 = model2.predict_proba( X_test) "
   ]
  },
  {
   "cell_type": "code",
   "execution_count": 13,
   "metadata": {},
   "outputs": [],
   "source": [
    "from sklearn.metrics   import roc_curve \n",
    "fpr1 , tpr1 , thresh1 = roc_curve( y_test , pred_prob1[:,1 ], pos_label= 1 )\n",
    "fpr2 , tpr2 , thresh2 = roc_curve( y_test , pred_prob2[:,1 ], pos_label= 1 )\n",
    "random_prob = [ 0 for i in range( len( y_test))]\n",
    "p_fpr , p_tpr  , _ = roc_curve(y_test , random_prob  ,pos_label =1  )\n",
    "\n"
   ]
  },
  {
   "cell_type": "code",
   "execution_count": 15,
   "metadata": {},
   "outputs": [
    {
     "data": {
      "text/plain": [
       "(np.float64(0.9762374461979914), np.float64(0.9233769727403157))"
      ]
     },
     "execution_count": 15,
     "metadata": {},
     "output_type": "execute_result"
    }
   ],
   "source": [
    "from sklearn.metrics import roc_auc_score\n",
    "\n",
    "auc_score1 = roc_auc_score( y_test  , pred_prob1[: , 1 ] ) \n",
    "auc_score2 = roc_auc_score( y_test  , pred_prob2[: , 1 ] ) \n",
    "auc_score1 , auc_score2"
   ]
  },
  {
   "cell_type": "code",
   "execution_count": 19,
   "metadata": {},
   "outputs": [
    {
     "data": {
      "image/png": "[encoded data removed]",
      "text/plain": [
       "<Figure size 640x480 with 1 Axes>"
      ]
     },
     "metadata": {},
     "output_type": "display_data"
    }
   ],
   "source": [
    "import matplotlib.pyplot as plt\n",
    "import seaborn as sns \n",
    "\n",
    "plt.plot( fpr1 , tpr1 , linestyle  = '--' ,   color ='orange'  , label = \"logistic regression \" )\n",
    "plt.plot( fpr2 , tpr2 , linestyle  = '--' ,   color ='green'  , label = \"KNN\" )\n",
    "plt.plot(p_fpr, p_tpr, linestyle='--', color='blue')\n",
    "\n",
    "plt.title( \" roc curve \")\n",
    "plt.xlabel( 'false positive rate ')\n",
    "plt.ylabel( ' true positive rate ')\n",
    "plt.show()\n"
   ]
  },
  {
   "cell_type": "code",
   "execution_count": null,
   "metadata": {},
   "outputs": [],
   "source": []
  }
 ],
 "metadata": {
  "kernelspec": {
   "display_name": "Python 3",
   "language": "python",
   "name": "python3"
  },
  "language_info": {
   "codemirror_mode": {
    "name": "ipython",
    "version": 3
   },
   "file_extension": ".py",
   "mimetype": "text/x-python",
   "name": "python",
   "nbconvert_exporter": "python",
   "pygments_lexer": "ipython3",
   "version": "3.10.6"
  }
 },
 "nbformat": 4,
 "nbformat_minor": 2
}
