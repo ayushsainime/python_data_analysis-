{
 "cells": [
  {
   "cell_type": "code",
   "execution_count": 6,
   "id": "cb39e7fa-b804-44d9-9391-b4dc5b5dca6e",
   "metadata": {},
   "outputs": [],
   "source": [
    "import  numpy as np \n",
    "import matplotlib.pyplot as plt \n",
    "\n",
    "%matplotlib inline\n"
   ]
  },
  {
   "cell_type": "code",
   "execution_count": 7,
   "id": "520bb78b-065f-45f9-bb99-b8e5e1c1942e",
   "metadata": {},
   "outputs": [],
   "source": [
    "dataset= [11,10,12,14,12,15,14,13,15,102,12,14,17,19,107, 10,13,12,14,12,108,12,11,14,13,15,10,15,12,10,14,13,15,10]\n"
   ]
  },
  {
   "cell_type": "code",
   "execution_count": 14,
   "id": "58790cf5-31a1-4fbf-999f-648ca80fc106",
   "metadata": {},
   "outputs": [],
   "source": [
    "outliers= [ ]\n",
    "\n",
    "\n",
    "def outlie( data ): \n",
    "    th =3 \n",
    "    mean = np.mean(data)\n",
    "    std  = np.std( data )\n",
    "\n",
    "    for i in data : \n",
    "\n",
    "        zs = (i-mean)/std \n",
    "        if np.abs( zs) > th : \n",
    "            outliers.append(i )\n",
    "            \n",
    "    return outliers        \n"
   ]
  },
  {
   "cell_type": "code",
   "execution_count": 15,
   "id": "c5860da5-9189-48ed-b3f0-4f0570a6f6eb",
   "metadata": {},
   "outputs": [],
   "source": [
    "outlier_pt=outlie(dataset)\n"
   ]
  },
  {
   "cell_type": "code",
   "execution_count": 16,
   "id": "aaa2f0ef-f650-4c1d-9f97-07840d37c395",
   "metadata": {},
   "outputs": [
    {
     "data": {
      "text/plain": [
       "[102, 107, 108]"
      ]
     },
     "execution_count": 16,
     "metadata": {},
     "output_type": "execute_result"
    }
   ],
   "source": [
    "outlier_pt"
   ]
  },
  {
   "cell_type": "code",
   "execution_count": 18,
   "id": "f894ed29-1ba1-4286-94dd-76bda6541d1d",
   "metadata": {},
   "outputs": [
    {
     "data": {
      "text/plain": [
       "[10,\n",
       " 10,\n",
       " 10,\n",
       " 10,\n",
       " 10,\n",
       " 11,\n",
       " 11,\n",
       " 12,\n",
       " 12,\n",
       " 12,\n",
       " 12,\n",
       " 12,\n",
       " 12,\n",
       " 12,\n",
       " 13,\n",
       " 13,\n",
       " 13,\n",
       " 13,\n",
       " 14,\n",
       " 14,\n",
       " 14,\n",
       " 14,\n",
       " 14,\n",
       " 14,\n",
       " 15,\n",
       " 15,\n",
       " 15,\n",
       " 15,\n",
       " 15,\n",
       " 17,\n",
       " 19,\n",
       " 102,\n",
       " 107,\n",
       " 108]"
      ]
     },
     "execution_count": 18,
     "metadata": {},
     "output_type": "execute_result"
    }
   ],
   "source": [
    "sorted( dataset)"
   ]
  },
  {
   "cell_type": "code",
   "execution_count": 19,
   "id": "102f1187-7b13-42d1-a450-0419eb0f0957",
   "metadata": {},
   "outputs": [],
   "source": [
    "q1 , q2 = np.percentile( dataset , [25 , 75 ])"
   ]
  },
  {
   "cell_type": "code",
   "execution_count": 20,
   "id": "8d008f69-0fe3-419d-affc-caa7852ef4eb",
   "metadata": {},
   "outputs": [
    {
     "data": {
      "text/plain": [
       "(12.0, 15.0)"
      ]
     },
     "execution_count": 20,
     "metadata": {},
     "output_type": "execute_result"
    }
   ],
   "source": [
    "q1 , q2 "
   ]
  },
  {
   "cell_type": "code",
   "execution_count": 23,
   "id": "20555004-66bd-4f51-ba30-d46cda9d6224",
   "metadata": {},
   "outputs": [
    {
     "data": {
      "text/plain": [
       "3.0"
      ]
     },
     "execution_count": 23,
     "metadata": {},
     "output_type": "execute_result"
    }
   ],
   "source": [
    "iqrange  =  q2 - q1 \n",
    "iqrange "
   ]
  },
  {
   "cell_type": "code",
   "execution_count": 28,
   "id": "723897e3-5d33-4f48-a6c4-30bfcd4191f7",
   "metadata": {},
   "outputs": [
    {
     "name": "stdout",
     "output_type": "stream",
     "text": [
      "7.5 19.5\n"
     ]
    }
   ],
   "source": [
    "lv = q1 - (1.5*iqrange )\n",
    "uv = q2  + (1.5*iqrange )\n",
    "print ( lv ,uv )"
   ]
  },
  {
   "cell_type": "code",
   "execution_count": null,
   "id": "9b3e823a-42e4-407c-a0e6-d68546414af8",
   "metadata": {},
   "outputs": [],
   "source": []
  }
 ],
 "metadata": {
  "kernelspec": {
   "display_name": "Python 3 (ipykernel)",
   "language": "python",
   "name": "python3"
  },
  "language_info": {
   "codemirror_mode": {
    "name": "ipython",
    "version": 3
   },
   "file_extension": ".py",
   "mimetype": "text/x-python",
   "name": "python",
   "nbconvert_exporter": "python",
   "pygments_lexer": "ipython3",
   "version": "3.12.7"
  }
 },
 "nbformat": 4,
 "nbformat_minor": 5
}
